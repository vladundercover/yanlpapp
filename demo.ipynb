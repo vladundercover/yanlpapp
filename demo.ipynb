{
 "cells": [
  {
   "cell_type": "code",
   "execution_count": 2,
   "metadata": {},
   "outputs": [],
   "source": [
    "import nltk, re"
   ]
  },
  {
   "cell_type": "code",
   "execution_count": 10,
   "metadata": {},
   "outputs": [],
   "source": [
    "def prepare_text(raw, lang):\n",
    "    \"\"\"\n",
    "    Removes stopwords and punctuation in order to make clear context-analysis\n",
    "    raw: data (string)\n",
    "    lang: language (string)\n",
    "    \"\"\"\n",
    "    # clean punctuation \n",
    "    raw = re.sub(r'\\W*\\s', ' ', raw)\n",
    "    \n",
    "    # clean stopwords\n",
    "    tokens = raw.split()\n",
    "    stopwords = nltk.corpus.stopwords.words(lang)\n",
    "    \n",
    "    # make filtered corpus\n",
    "    clean_text = [t for t in tokens if t not in stopwords]\n",
    "    text = nltk.Text(clean_text)\n",
    "    \n",
    "    return text"
   ]
  },
  {
   "cell_type": "code",
   "execution_count": 11,
   "metadata": {},
   "outputs": [],
   "source": [
    "text = prepare_text(nltk.corpus.reuters.raw().lower(), \"english\")"
   ]
  },
  {
   "cell_type": "code",
   "execution_count": 13,
   "metadata": {},
   "outputs": [
    {
     "ename": "AttributeError",
     "evalue": "'Text' object has no attribute 'sub'",
     "output_type": "error",
     "traceback": [
      "\u001b[1;31m---------------------------------------------------------------------------\u001b[0m",
      "\u001b[1;31mAttributeError\u001b[0m                            Traceback (most recent call last)",
      "\u001b[1;32m<ipython-input-13-181a9045e111>\u001b[0m in \u001b[0;36m<module>\u001b[1;34m()\u001b[0m\n\u001b[1;32m----> 1\u001b[1;33m \u001b[0mstock_text\u001b[0m \u001b[1;33m=\u001b[0m \u001b[0mtext\u001b[0m\u001b[1;33m.\u001b[0m\u001b[0msub\u001b[0m\u001b[1;33m(\u001b[0m\u001b[1;34m\"stocks\"\u001b[0m\u001b[1;33m,\u001b[0m \u001b[1;34m\"stock\"\u001b[0m\u001b[1;33m)\u001b[0m\u001b[1;33m\u001b[0m\u001b[0m\n\u001b[0m",
      "\u001b[1;31mAttributeError\u001b[0m: 'Text' object has no attribute 'sub'"
     ]
    }
   ],
   "source": [
    "stock_text = text.sub(\"stocks\", \"stock\")"
   ]
  },
  {
   "cell_type": "code",
   "execution_count": null,
   "metadata": {},
   "outputs": [],
   "source": [
    "text.similar(\"stocks\")"
   ]
  },
  {
   "cell_type": "code",
   "execution_count": null,
   "metadata": {},
   "outputs": [],
   "source": [
    "text.similar(\"stock\")"
   ]
  },
  {
   "cell_type": "code",
   "execution_count": null,
   "metadata": {},
   "outputs": [],
   "source": [
    "text.similar(\"prices\")"
   ]
  },
  {
   "cell_type": "code",
   "execution_count": null,
   "metadata": {},
   "outputs": [],
   "source": [
    "text.similar(\"price\")"
   ]
  },
  {
   "cell_type": "code",
   "execution_count": null,
   "metadata": {},
   "outputs": [],
   "source": [
    "text.similar(\"production\")"
   ]
  },
  {
   "cell_type": "code",
   "execution_count": null,
   "metadata": {},
   "outputs": [],
   "source": [
    "def ipm(ip_text, itotal_ptext):\n",
    "    return ip_text/1000000*itotal_ptext\n",
    "\n",
    "from nltk import FreqDist\n",
    "\n",
    "fdist = FreqDist(text)"
   ]
  },
  {
   "cell_type": "code",
   "execution_count": null,
   "metadata": {},
   "outputs": [],
   "source": [
    "fdist[r'(stock)|(stocks)']"
   ]
  },
  {
   "cell_type": "code",
   "execution_count": null,
   "metadata": {},
   "outputs": [],
   "source": [
    "fdist['stock']"
   ]
  },
  {
   "cell_type": "code",
   "execution_count": null,
   "metadata": {},
   "outputs": [],
   "source": [
    "\n",
    "fdist.freq('stocks')\n",
    "fdist.N()\n",
    "\n",
    "print(ipm(fdist['stocks'],fdist.N()))"
   ]
  },
  {
   "cell_type": "code",
   "execution_count": null,
   "metadata": {},
   "outputs": [],
   "source": [
    "# для сравнения категорий\n",
    "def make_doclist(categories=nltk.corpus.reuters.categories()):\n",
    "    raw_doclist = []\n",
    "    reuters = nltk.corpus.reuters\n",
    "    for c in categories:\n",
    "        raw_doclist.append(reuters.raw(categories=c))\n",
    "\n",
    "    tokenizer = nltk.RegexpTokenizer(r'\\w+')\n",
    "    stopwords = nltk.corpus.stopwords.words('english')\n",
    "    stemmer = nltk.PorterStemmer()\n",
    "    \n",
    "    doclist = []\n",
    "    for d in raw_doclist:\n",
    "        tokens = tokenizer.tokenize(d)\n",
    "        stopped_tokens = [t for t in tokens if not t in stopwords]\n",
    "        stemmed_tokens = [stemmer.stem(t) for t in stopped_tokens]\n",
    "        doclist.append(\" \".join(stemmed_tokens))\n",
    "    return doclist"
   ]
  },
  {
   "cell_type": "code",
   "execution_count": null,
   "metadata": {},
   "outputs": [],
   "source": [
    "# для анализа одной категории\n",
    "def make_doclist_by_category(category):\n",
    "    raw_doclist = []\n",
    "    reuters = nltk.corpus.reuters\n",
    "\n",
    "    fileids = reuters.fileids(categories=category)\n",
    "    for i in fileids:\n",
    "        raw_doclist.append(reuters.raw(fileids=i))\n",
    "\n",
    "    stopwords = nltk.corpus.stopwords.words('english')\n",
    "    lemmatizer = nltk.WordNetLemmatizer()\n",
    "    \n",
    "    doclist = []\n",
    "    for d in raw_doclist:\n",
    "        words_string = re.sub(r'\\W*(^|\\s|$)\\W*', ' ', d.lower())\n",
    "        tokens = words_string.split()\n",
    "        stopped_tokens = [t for t in tokens if not t in stopwords]\n",
    "        lemmed_tokens = [lemmatizer.lemmatize(t) for t in stopped_tokens]    \n",
    "        doclist.append(\" \".join(lemmed_tokens))\n",
    "        \n",
    "    return doclist"
   ]
  }
 ],
 "metadata": {
  "kernelspec": {
   "display_name": "Python 3",
   "language": "python",
   "name": "python3"
  },
  "language_info": {
   "codemirror_mode": {
    "name": "ipython",
    "version": 3
   },
   "file_extension": ".py",
   "mimetype": "text/x-python",
   "name": "python",
   "nbconvert_exporter": "python",
   "pygments_lexer": "ipython3",
   "version": "3.7.0"
  }
 },
 "nbformat": 4,
 "nbformat_minor": 2
}
