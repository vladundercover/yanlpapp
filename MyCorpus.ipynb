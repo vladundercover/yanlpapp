{
 "cells": [
  {
   "cell_type": "code",
   "execution_count": 2,
   "metadata": {},
   "outputs": [],
   "source": [
    "import nltk, re"
   ]
  },
  {
   "cell_type": "code",
   "execution_count": 3,
   "metadata": {},
   "outputs": [],
   "source": [
    "class MyCorpus(object):\n",
    "    def __init__(self, raw, lang=\"english\"):\n",
    "        self._raw = raw\n",
    "        self._lang = lang\n",
    "        self.top = str(raw[:100])\n",
    "      \n",
    "    def concordance(self, wforms):\n",
    "        words = nltk.word_tokenize(self._raw)\n",
    "        for w in words:\n",
    "            if w in wforms:\n",
    "                words[words.index(w)] = \"[\"+wforms[0]+\"]\"\n",
    "        corpus = nltk.Text(words)\n",
    "        return corpus.concordance(\"[\"+wforms[0]+\"]\")\n",
    "        \n",
    "    def similar(self, wforms):\n",
    "        words = self._filter()\n",
    "        for w in words:\n",
    "            if w in wforms:\n",
    "                words[words.index(w)] = wforms[0]\n",
    "        corpus = nltk.Text(words)\n",
    "        corpus.similar(wforms[0])\n",
    "    \n",
    "    def _filter(self):\n",
    "        words_string = re.sub(r'\\W*(^|\\s|$)\\W*', ' ', self._raw.lower())\n",
    "        words = words_string.split()\n",
    "        stopwords = nltk.corpus.stopwords.words(self._lang)\n",
    "        filtered = [w for w in words if w not in stopwords]\n",
    "        return filtered"
   ]
  },
  {
   "cell_type": "code",
   "execution_count": 7,
   "metadata": {},
   "outputs": [],
   "source": [
    "c = MyCorpus(nltk.corpus.reuters.raw())"
   ]
  },
  {
   "cell_type": "code",
   "execution_count": null,
   "metadata": {},
   "outputs": [],
   "source": [
    "%timeit c.concordance([\"stock\",\"stocks\"])"
   ]
  },
  {
   "cell_type": "code",
   "execution_count": 5,
   "metadata": {},
   "outputs": [
    {
     "name": "stdout",
     "output_type": "stream",
     "text": [
      "shares share market dollar the offer economy company year pct oil\n",
      "exports dlrs board debt shareholders government bank sugar operations\n"
     ]
    }
   ],
   "source": [
    "nltk.Text(nltk.corpus.reuters.words()).similar(\"stock\")"
   ]
  },
  {
   "cell_type": "code",
   "execution_count": 6,
   "metadata": {},
   "outputs": [
    {
     "name": "stdout",
     "output_type": "stream",
     "text": [
      "prices production imports exports sales and pct march japan april\n",
      "february output shares trade producers earnings price companies that\n",
      "year\n"
     ]
    }
   ],
   "source": [
    "nltk.Text(nltk.corpus.reuters.words()).similar(\"stocks\")"
   ]
  },
  {
   "cell_type": "code",
   "execution_count": 13,
   "metadata": {},
   "outputs": [
    {
     "name": "stdout",
     "output_type": "stream",
     "text": [
      "shares said share pct mln company total dlrs increase stake year\n",
      "production february exports one oil prices cash would january\n"
     ]
    }
   ],
   "source": [
    "c.similar([\"stock\",\"stocks\"])"
   ]
  }
 ],
 "metadata": {
  "kernelspec": {
   "display_name": "Python 3",
   "language": "python",
   "name": "python3"
  },
  "language_info": {
   "codemirror_mode": {
    "name": "ipython",
    "version": 3
   },
   "file_extension": ".py",
   "mimetype": "text/x-python",
   "name": "python",
   "nbconvert_exporter": "python",
   "pygments_lexer": "ipython3",
   "version": "3.7.0"
  }
 },
 "nbformat": 4,
 "nbformat_minor": 2
}
