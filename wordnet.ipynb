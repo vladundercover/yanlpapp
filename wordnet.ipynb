{
 "cells": [
  {
   "cell_type": "code",
   "execution_count": 1,
   "metadata": {},
   "outputs": [],
   "source": [
    "import nltk"
   ]
  },
  {
   "cell_type": "code",
   "execution_count": 22,
   "metadata": {},
   "outputs": [],
   "source": [
    "wn = nltk.corpus.wordnet"
   ]
  },
  {
   "cell_type": "code",
   "execution_count": 24,
   "metadata": {},
   "outputs": [
    {
     "data": {
      "text/plain": [
       "[Synset('car.n.01'),\n",
       " Synset('car.n.02'),\n",
       " Synset('car.n.03'),\n",
       " Synset('car.n.04'),\n",
       " Synset('cable_car.n.01')]"
      ]
     },
     "execution_count": 24,
     "metadata": {},
     "output_type": "execute_result"
    }
   ],
   "source": [
    "# синонимичные множества\n",
    "wn.synsets('car')"
   ]
  },
  {
   "cell_type": "code",
   "execution_count": 25,
   "metadata": {},
   "outputs": [
    {
     "name": "stdout",
     "output_type": "stream",
     "text": [
      "Synset('car.n.01') ['car', 'auto', 'automobile', 'machine', 'motorcar'] a motor vehicle with four wheels; usually propelled by an internal combustion engine\n",
      "Synset('car.n.02') ['car', 'railcar', 'railway_car', 'railroad_car'] a wheeled vehicle adapted to the rails of railroad\n",
      "Synset('car.n.03') ['car', 'gondola'] the compartment that is suspended from an airship and that carries personnel and the cargo and the power plant\n",
      "Synset('car.n.04') ['car', 'elevator_car'] where passengers ride up and down\n",
      "Synset('cable_car.n.01') ['cable_car', 'car'] a conveyance for passengers or freight on a cable railway\n"
     ]
    }
   ],
   "source": [
    "for synset in wn.synsets('car'):\n",
    "    print(synset, synset.lemma_names(), synset.definition())"
   ]
  },
  {
   "cell_type": "code",
   "execution_count": 13,
   "metadata": {},
   "outputs": [
    {
     "data": {
      "text/plain": [
       "['car', 'auto', 'automobile', 'machine', 'motorcar']"
      ]
     },
     "execution_count": 13,
     "metadata": {},
     "output_type": "execute_result"
    }
   ],
   "source": [
    "wordnet.synset('car.n.01').lemma_names()"
   ]
  },
  {
   "cell_type": "code",
   "execution_count": 15,
   "metadata": {},
   "outputs": [
    {
     "data": {
      "text/plain": [
       "'a vessel that carries passengers or freight'"
      ]
     },
     "execution_count": 15,
     "metadata": {},
     "output_type": "execute_result"
    }
   ],
   "source": [
    "wordnet.synset('ship.n.01').definition()"
   ]
  },
  {
   "cell_type": "code",
   "execution_count": 16,
   "metadata": {},
   "outputs": [
    {
     "data": {
      "text/plain": [
       "'hire for work on a ship'"
      ]
     },
     "execution_count": 16,
     "metadata": {},
     "output_type": "execute_result"
    }
   ],
   "source": [
    "wordnet.synset('ship.v.02').definition()"
   ]
  },
  {
   "cell_type": "code",
   "execution_count": 17,
   "metadata": {},
   "outputs": [
    {
     "data": {
      "text/plain": [
       "'travel by ship'"
      ]
     },
     "execution_count": 17,
     "metadata": {},
     "output_type": "execute_result"
    }
   ],
   "source": [
    "wordnet.synset('ship.v.04').definition()"
   ]
  },
  {
   "cell_type": "code",
   "execution_count": 31,
   "metadata": {},
   "outputs": [
    {
     "name": "stdout",
     "output_type": "stream",
     "text": [
      "Synset('stock.n.01') ['stock'] the capital raised by a corporation through the issue of shares entitling holders to an ownership interest (equity)\n",
      "Synset('stock.n.02') ['stock', 'inventory'] the merchandise that a shop has on hand\n",
      "Synset('stock.n.03') ['stock', 'gunstock'] the handle of a handgun or the butt end of a rifle or shotgun or part of the support of a machine gun or artillery gun\n",
      "Synset('stock_certificate.n.01') ['stock_certificate', 'stock'] a certificate documenting the shareholder's ownership in the corporation\n",
      "Synset('store.n.02') ['store', 'stock', 'fund'] a supply of something available for future use\n",
      "Synset('lineage.n.01') ['lineage', 'line', 'line_of_descent', 'descent', 'bloodline', 'blood_line', 'blood', 'pedigree', 'ancestry', 'origin', 'parentage', 'stemma', 'stock'] the descendants of one individual\n",
      "Synset('breed.n.01') ['breed', 'strain', 'stock'] a special variety of domesticated animals within a species\n",
      "Synset('broth.n.01') ['broth', 'stock'] liquid in which meat and vegetables are simmered; used as a basis for e.g. soups or sauces\n",
      "Synset('stock.n.09') ['stock'] the reputation and popularity a person has\n",
      "Synset('stock.n.10') ['stock', 'caudex'] persistent thickened stem of a herbaceous perennial plant\n",
      "Synset('stock.n.11') ['stock'] a plant or stem onto which a graft is made; especially a plant grown specifically to provide the root part of grafted plants\n",
      "Synset('stock.n.12') ['stock', 'gillyflower'] any of several Old World plants cultivated for their brightly colored flowers\n",
      "Synset('malcolm_stock.n.01') ['Malcolm_stock', 'stock'] any of various ornamental flowering plants of the genus Malcolmia\n",
      "Synset('stock.n.14') ['stock'] lumber used in the construction of something\n",
      "Synset('stock.n.15') ['stock'] the handle end of some implements or tools\n",
      "Synset('neckcloth.n.01') ['neckcloth', 'stock'] an ornamental white cravat\n",
      "Synset('livestock.n.01') ['livestock', 'stock', 'farm_animal'] any animals kept for use or profit\n"
     ]
    }
   ],
   "source": [
    "for synset in wn.synsets('stock', pos=wn.NOUN):\n",
    "    print(synset, synset.lemma_names(), synset.definition())"
   ]
  },
  {
   "cell_type": "code",
   "execution_count": 39,
   "metadata": {},
   "outputs": [
    {
     "data": {
      "text/plain": [
       "[]"
      ]
     },
     "execution_count": 39,
     "metadata": {},
     "output_type": "execute_result"
    }
   ],
   "source": [
    "wn.synset('stock.n.01').usage_domains()"
   ]
  },
  {
   "cell_type": "code",
   "execution_count": 35,
   "metadata": {},
   "outputs": [
    {
     "name": "stdout",
     "output_type": "stream",
     "text": [
      "None\n"
     ]
    }
   ],
   "source": []
  }
 ],
 "metadata": {
  "kernelspec": {
   "display_name": "Python 3",
   "language": "python",
   "name": "python3"
  },
  "language_info": {
   "codemirror_mode": {
    "name": "ipython",
    "version": 3
   },
   "file_extension": ".py",
   "mimetype": "text/x-python",
   "name": "python",
   "nbconvert_exporter": "python",
   "pygments_lexer": "ipython3",
   "version": "3.7.0"
  }
 },
 "nbformat": 4,
 "nbformat_minor": 2
}
